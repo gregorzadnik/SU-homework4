{
 "cells": [
  {
   "cell_type": "code",
   "execution_count": 2,
   "metadata": {},
   "outputs": [
    {
     "data": {
      "text/plain": [
       "18"
      ]
     },
     "execution_count": 2,
     "metadata": {},
     "output_type": "execute_result"
    }
   ],
   "source": [
    "import numpy as np\n",
    "import pandas as pd\n",
    "from sklearn.model_selection import train_test_split\n",
    "from sklearn.metrics import mean_squared_error\n",
    "from sklearn.linear_model import LinearRegression\n",
    "\n",
    "\n",
    "def fetch_data(path):\n",
    "    # fetch dataset \n",
    "    X = pd.read_csv(path, delimiter=',')\n",
    "    X['waterbody'] = X['waterbody'].fillna('No')\n",
    "    y = X['price']\n",
    "    X = X.drop(columns=\"price\")\n",
    "\n",
    "    #X = auto_mpg.data.features \n",
    "    #y = auto_mpg.data.targets \n",
    "    #X = X.drop(columns=['cylinders'])\n",
    "    ## Add the targets column to the features\n",
    "    #X['targets'] = y\n",
    "    #X = X[X['horsepower'].notna()]\n",
    "    #y = X['targets']\n",
    "    #X = X.drop(columns='targets')\n",
    "    return X, y\n",
    "\n",
    "\n",
    "\n",
    "# Posebej obravnavamo kategorične atribute: naprimer vejitev waterbody = River in waterbody != River\n",
    "# Zvezne atribute razdelimo v območja recimo 100 intervalov in za vsako mejo:\n",
    "# izračunamo povprečje točk na levi strani in povprečje točk na desni strani.\n",
    "# Seštejemo te dve povprečji in si shranimo to napako za to mejo.\n",
    "# To naredimo za vsak atribut za vsako mejo in najdemo minimum vseh.\n",
    "# Potem mamo prvo vozlišče in nato dodajamo. Sami si izberemo kdaj nehamo dodajati\n"
   ]
  },
  {
   "cell_type": "code",
   "execution_count": 41,
   "metadata": {},
   "outputs": [],
   "source": [
    "class Node:\n",
    "    def __init__(self, attribute=None, threshold=None, value=None, left=None, right=None):\n",
    "        self.attribute = attribute  # Name of feature to split on\n",
    "        self.threshold = threshold  # Threshold value for the feature\n",
    "        self.value = value  # Prediction value for the node (for leaf nodes)\n",
    "        self.left = left  # Left subtree\n",
    "        self.right = right  # Right subtree\n",
    "\n",
    "\n",
    "class RegressionTree:\n",
    "    def __init__(self, max_depth=None, min_samples_split=10):\n",
    "        self.max_depth = max_depth  # Maximum depth of the tree\n",
    "        self.min_samples_split = min_samples_split  # Minimum samples required to split a node\n",
    "\n",
    "    def fit(self, X: pd.DataFrame, y):\n",
    "        self.root = self._fit(X, y, depth=0)\n",
    "        \n",
    "    def _fit(self, X: pd.DataFrame, y, depth):\n",
    "        # Check termination conditions\n",
    "        if depth == self.max_depth or len(y) < self.min_samples_split or len(set(y)) == 1:\n",
    "            return Node(value=np.mean(y))\n",
    "\n",
    "        min_mse = float('inf')\n",
    "        best_attribute = None\n",
    "        best_threshold = None\n",
    "\n",
    "        # Iterate over all features and thresholds to find the best split\n",
    "        for attr in X.columns.values:\n",
    "            thresholds = None\n",
    "            # If current attribute is categoric, iterate through all the distinct values\n",
    "            if X[attr].dtype == 'object':\n",
    "                thresholds = list(X[attr].unique())\n",
    "            else:                    \n",
    "                thresholds = np.linspace(X[attr].min(), X[attr].max(), 100)\n",
    "            for threshold in thresholds:\n",
    "                left_mask = None\n",
    "                if X[attr].dtype == 'object':\n",
    "                    left_mask = X[attr] == threshold\n",
    "                else:\n",
    "                    left_mask = X[attr] <= threshold\n",
    "                right_mask = ~left_mask\n",
    "                if len(y[left_mask]) > 0 and len(y[right_mask]) > 0:\n",
    "                    mse = self._calculate_mse(y[left_mask]) + self._calculate_mse(y[right_mask])\n",
    "                    if mse < min_mse:\n",
    "                        min_mse = mse\n",
    "                        best_attribute = attr\n",
    "                        best_threshold = threshold\n",
    "\n",
    "        if best_attribute is not None:\n",
    "            left_mask = None\n",
    "            if X[best_attribute].dtype == 'object':\n",
    "                left_mask = X[best_attribute] == best_threshold\n",
    "            else:\n",
    "                left_mask = X[best_attribute] <= best_threshold\n",
    "            right_mask = ~left_mask\n",
    "            left_subtree = self._fit(X[left_mask], y[left_mask], depth + 1)\n",
    "            right_subtree = self._fit(X[right_mask], y[right_mask], depth + 1)\n",
    "            return Node(attribute=best_attribute, threshold=best_threshold, left=left_subtree, right=right_subtree)\n",
    "        else:\n",
    "            return Node(value=y.mean())\n",
    "\n",
    "    def predict(self, X):\n",
    "        return np.array([self._predict(x, self.root) for x in X])\n",
    "\n",
    "    def _predict(self, x, node: Node):\n",
    "        if node.value is not None:\n",
    "            return node.value\n",
    "        if x[node.attribute].dtype == 'object':\n",
    "            if x[node.attribute] == node.threshold:\n",
    "                return self._predict(x, node.left)\n",
    "            else:\n",
    "                return self._predict(x, node.right)\n",
    "        elif x[node.feature_index] <= node.threshold:\n",
    "            return self._predict(x, node.left)\n",
    "        else:\n",
    "            return self._predict(x, node.right)\n",
    "\n",
    "    def _calculate_mse(self, y):\n",
    "        return np.mean((y - y.mean())**2)"
   ]
  },
  {
   "cell_type": "code",
   "execution_count": 40,
   "metadata": {},
   "outputs": [
    {
     "data": {
      "text/plain": [
       "22.528853754940716"
      ]
     },
     "execution_count": 40,
     "metadata": {},
     "output_type": "execute_result"
    }
   ],
   "source": [
    "X, y = fetch_data(\"House_Price.csv\")\n",
    "X_train, X_test, y_train, y_test = train_test_split(X, y)\n",
    "model = "
   ]
  }
 ],
 "metadata": {
  "kernelspec": {
   "display_name": "Python 3",
   "language": "python",
   "name": "python3"
  },
  "language_info": {
   "codemirror_mode": {
    "name": "ipython",
    "version": 3
   },
   "file_extension": ".py",
   "mimetype": "text/x-python",
   "name": "python",
   "nbconvert_exporter": "python",
   "pygments_lexer": "ipython3",
   "version": "3.11.1"
  }
 },
 "nbformat": 4,
 "nbformat_minor": 2
}
